{
 "cells": [
  {
   "cell_type": "code",
   "execution_count": 1,
   "metadata": {},
   "outputs": [
    {
     "name": "stdout",
     "output_type": "stream",
     "text": [
      "Instance ID: i-018e9cbeaf38963e3\n"
     ]
    }
   ],
   "source": [
    "import requests\n",
    "\n",
    "def get_instance_id():\n",
    "    try:\n",
    "        # URL providing the instance ID. This is only accessible from within the instance.\n",
    "        url = \"http://169.254.169.254/latest/meta-data/instance-id\"\n",
    "\n",
    "        # Send a request to the instance metadata service to retrieve the instance ID.\n",
    "        response = requests.get(url)\n",
    "\n",
    "        # If the request was successful, return the instance ID.\n",
    "        if response.status_code == 200:\n",
    "            return response.text\n",
    "        else:\n",
    "            raise Exception(\"Unable to retrieve instance ID. Status code: {}\".format(response.status_code))\n",
    "    except requests.RequestException as e:\n",
    "        raise SystemExit(e)\n",
    "\n",
    "# Usage\n",
    "instance_id = get_instance_id()\n",
    "print(\"Instance ID:\", instance_id)"
   ]
  },
  {
   "cell_type": "code",
   "execution_count": 11,
   "metadata": {},
   "outputs": [],
   "source": [
    "s3_url = 'https://smit-sqs-asg-testing.s3.ap-south-1.amazonaws.com/142480-Himanshu-Test.mp4'\n",
    "url_parts = s3_url[8:].split('/', 1)"
   ]
  },
  {
   "cell_type": "code",
   "execution_count": 13,
   "metadata": {},
   "outputs": [],
   "source": [
    "bucket = url_parts[0].split('.')[0]\n",
    "key = url_parts[1]"
   ]
  },
  {
   "cell_type": "code",
   "execution_count": 14,
   "metadata": {},
   "outputs": [
    {
     "data": {
      "text/plain": [
       "'smit-sqs-asg-testing'"
      ]
     },
     "execution_count": 14,
     "metadata": {},
     "output_type": "execute_result"
    }
   ],
   "source": [
    "bucket"
   ]
  },
  {
   "cell_type": "code",
   "execution_count": 15,
   "metadata": {},
   "outputs": [
    {
     "data": {
      "text/plain": [
       "'142480-Himanshu-Test.mp4'"
      ]
     },
     "execution_count": 15,
     "metadata": {},
     "output_type": "execute_result"
    }
   ],
   "source": [
    "key"
   ]
  }
 ],
 "metadata": {
  "kernelspec": {
   "display_name": "venv",
   "language": "python",
   "name": "python3"
  },
  "language_info": {
   "codemirror_mode": {
    "name": "ipython",
    "version": 3
   },
   "file_extension": ".py",
   "mimetype": "text/x-python",
   "name": "python",
   "nbconvert_exporter": "python",
   "pygments_lexer": "ipython3",
   "version": "3.10.9"
  }
 },
 "nbformat": 4,
 "nbformat_minor": 2
}
